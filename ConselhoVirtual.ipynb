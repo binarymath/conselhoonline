{
  "nbformat": 4,
  "nbformat_minor": 0,
  "metadata": {
    "colab": {
      "provenance": [],
      "collapsed_sections": [
        "0ORaji2YRS1r"
      ],
      "authorship_tag": "ABX9TyOQMiTmnDAxKI7uuvC12+X9",
      "include_colab_link": true
    },
    "kernelspec": {
      "name": "python3",
      "display_name": "Python 3"
    },
    "language_info": {
      "name": "python"
    }
  },
  "cells": [
    {
      "cell_type": "markdown",
      "metadata": {
        "id": "view-in-github",
        "colab_type": "text"
      },
      "source": [
        "<a href=\"https://colab.research.google.com/github/binarymath/conselhoonline/blob/main/ConselhoVirtual.ipynb\" target=\"_parent\"><img src=\"https://colab.research.google.com/assets/colab-badge.svg\" alt=\"Open In Colab\"/></a>"
      ]
    },
    {
      "cell_type": "markdown",
      "source": [
        "# Tratamento de dados (Mapão 6ºs e 7ºs)"
      ],
      "metadata": {
        "id": "xePoNwv1KxAq"
      }
    },
    {
      "cell_type": "markdown",
      "source": [
        "## Upload do Mapão"
      ],
      "metadata": {
        "id": "cAfrGiFiRDLm"
      }
    },
    {
      "cell_type": "code",
      "execution_count": 42,
      "metadata": {
        "id": "CZOeGLSZd-aR"
      },
      "outputs": [],
      "source": [
        "from google.colab import files\n",
        "import pandas as pd"
      ]
    },
    {
      "cell_type": "code",
      "source": [
        "mapao = files.upload()"
      ],
      "metadata": {
        "id": "1DMKVWQEeUjv"
      },
      "execution_count": null,
      "outputs": []
    },
    {
      "cell_type": "markdown",
      "source": [
        "## Baixar mapão tratado"
      ],
      "metadata": {
        "id": "0ORaji2YRS1r"
      }
    },
    {
      "cell_type": "code",
      "source": [
        "df_mapao = pd.read_excel(list(mapao.keys())[0], skiprows=11)\n",
        "df_mapao = df_mapao.iloc[:-1]\n",
        "df_mapao = df_mapao.drop([\"Nº.1\", \"Nº.2\", \"Nº.3\", \"Nº.4\", \"Nº.5\", \"Nº.6\", \"Nº.7\", \"Nº.8\", \"Nº.9\", \"Nº.10\", \"Nº.11\", \"Nº.12\", \"Nº.13\", \"Nº.14\"], axis=1)\n",
        "df_mapao.columns = [\n",
        "                    \"Aluno\",\"Situação\",\"Nº\",\n",
        "                    \"Média em Arte\",\"Faltas em Arte\",\"Compensação em Artes\",\n",
        "                     \"Média em Ciências\",\"Faltas em Ciências\",\"Compensação em Ciências\",\n",
        "                     \"Média em Educação Financeira\",\"Faltas em Educação Financeira\",\"Compensação em Educação Financeira\",\n",
        "                     \"Média em Educação Física\",\"Faltas em Educação Física\",\"Compensação em Educação Física\",\n",
        "                     \"Média em Eletivas\",\"Faltas em Eletivas\",\"Compensação em Eletivas\",\n",
        "                     \"Média em Geografia\",\"Faltas em Geografia\",\"Compensação em Geografia\",\n",
        "                     \"Média em História\",\"Faltas em História\",\"Compensação em História\",\n",
        "                     \"Média em Língua Inglesa\",\"Faltas em Língua Inglesa\",\"Compensação em Lingua Inglesa\",\n",
        "                     \"Média em Lingua Portuguesa\",\"Faltas em Lingua Portugusa\",\"Compensação em Lingua Portuguesa\",\n",
        "                     \"Média em Matemática\",\"Faltas em Matemática\",\"Compensação em Matemática\",\n",
        "                     \"Média em Orientação de estudo lingua Portuguesa\",\"Faltas em Orientação de estudo lingua portuguesa\",\"Compensação em orientação de estudo lingua portuguesa\",\n",
        "                     \"Média em Orientação de estudo matemática\",\"Faltas em orientação de estudo matemática\",\"Compensação em orientação de estudo matemática\",\n",
        "                     \"Média em Projeto de Vida\",\"Faltas em Projeto de Vida\",\"Compensação em Projeto de vida\",\n",
        "                     \"Média em Redação e Leitura\",\"Faltas em Redação e Leitura\",\"Compensação em Redação e Leitura\",\n",
        "                      \"Média em Tecnologia e Inovação\",\"Faltas em Tecnologia e Inovação\",\"Compensação em Tecnologia e Inovação\",\n",
        "                     \"Total de faltas\",\"Frequência total em (%)\",\"Frequencia Anterior\",\"Frequência anterior em (%)\"\n",
        "]"
      ],
      "metadata": {
        "id": "CsTry7RQgcZH"
      },
      "execution_count": 46,
      "outputs": []
    },
    {
      "cell_type": "code",
      "source": [
        "df_mapao.to_csv('mapao.csv', index=False)\n",
        "files.download('mapao.csv')"
      ],
      "metadata": {
        "id": "VURZrGnCLS5p",
        "colab": {
          "base_uri": "https://localhost:8080/",
          "height": 17
        },
        "outputId": "918ffdef-e4c1-46c8-d4da-6e89c29886d0"
      },
      "execution_count": 47,
      "outputs": [
        {
          "output_type": "display_data",
          "data": {
            "text/plain": [
              "<IPython.core.display.Javascript object>"
            ],
            "application/javascript": [
              "\n",
              "    async function download(id, filename, size) {\n",
              "      if (!google.colab.kernel.accessAllowed) {\n",
              "        return;\n",
              "      }\n",
              "      const div = document.createElement('div');\n",
              "      const label = document.createElement('label');\n",
              "      label.textContent = `Downloading \"${filename}\": `;\n",
              "      div.appendChild(label);\n",
              "      const progress = document.createElement('progress');\n",
              "      progress.max = size;\n",
              "      div.appendChild(progress);\n",
              "      document.body.appendChild(div);\n",
              "\n",
              "      const buffers = [];\n",
              "      let downloaded = 0;\n",
              "\n",
              "      const channel = await google.colab.kernel.comms.open(id);\n",
              "      // Send a message to notify the kernel that we're ready.\n",
              "      channel.send({})\n",
              "\n",
              "      for await (const message of channel.messages) {\n",
              "        // Send a message to notify the kernel that we're ready.\n",
              "        channel.send({})\n",
              "        if (message.buffers) {\n",
              "          for (const buffer of message.buffers) {\n",
              "            buffers.push(buffer);\n",
              "            downloaded += buffer.byteLength;\n",
              "            progress.value = downloaded;\n",
              "          }\n",
              "        }\n",
              "      }\n",
              "      const blob = new Blob(buffers, {type: 'application/binary'});\n",
              "      const a = document.createElement('a');\n",
              "      a.href = window.URL.createObjectURL(blob);\n",
              "      a.download = filename;\n",
              "      div.appendChild(a);\n",
              "      a.click();\n",
              "      div.remove();\n",
              "    }\n",
              "  "
            ]
          },
          "metadata": {}
        },
        {
          "output_type": "display_data",
          "data": {
            "text/plain": [
              "<IPython.core.display.Javascript object>"
            ],
            "application/javascript": [
              "download(\"download_82ef2d0c-cb01-4de9-b908-714cfc1e55ec\", \"mapao.csv\", 9436)"
            ]
          },
          "metadata": {}
        }
      ]
    }
  ]
}